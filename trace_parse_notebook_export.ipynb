{
 "cells": [
  {
   "cell_type": "code",
   "execution_count": 20,
   "metadata": {},
   "outputs": [],
   "source": [
    "import trace_pb2\n",
    "import pandas as pd\n",
    "import numpy as np\n",
    "from scipy import interpolate\n",
    "import matplotlib.pyplot as plt\n",
    "%matplotlib inline\n"
   ]
  },
  {
   "cell_type": "code",
   "execution_count": 21,
   "metadata": {},
   "outputs": [],
   "source": [
    "attributes = [\n",
    "    # data,\n",
    "    \"scan_name\",\n",
    "    \"start_frequency\",\n",
    "    \"stop_frequency\",\n",
    "    \"resolution_bandwidth\",\n",
    "    \"video_bandwidth\",\n",
    "    \"reference_level\",\n",
    "    \"sweep_points\",\n",
    "    \"auto_sweep_time\",\n",
    "    \"sweep_time\",\n",
    "    \"single_sweep_mode\",\n",
    "    \"number_of_sweeps\",\n",
    "    \"dwell_time\",\n",
    "    \"coupling\",\n",
    "    \"pre_amp_state\",\n",
    "    \"attenuation\",\n",
    "    \"auto_attenuation\",\n",
    "    \"antenna_offset\",\n",
    "    \"detector_type\",\n",
    "    \"trace_type\",\n",
    "    \"latitude\",\n",
    "    \"longitude\",\n",
    "    \"azimuth\",\n",
    "    \"elevation\",\n",
    "    \"measurement_date_time\",\n",
    "    \"significant_digits\",\n",
    "]\n"
   ]
  },
  {
   "cell_type": "code",
   "execution_count": 22,
   "metadata": {},
   "outputs": [],
   "source": [
    "trace = trace_pb2.Trace()\n",
    "try:\n",
    "    f = open(\"trace.ptc\", \"rb\")\n",
    "    trace.ParseFromString(f.read())\n",
    "    f.close()\n",
    "except IOError:\n",
    "    print(sys.arg[1] + \": Could not open file.\")\n"
   ]
  },
  {
   "cell_type": "code",
   "execution_count": 23,
   "metadata": {},
   "outputs": [
    {
     "name": "stdout",
     "output_type": "stream",
     "text": [
      "scan_name: 2G to 9G\n",
      "start_frequency: 2000.0\n",
      "stop_frequency: 9000.0\n",
      "resolution_bandwidth: 0.09\n",
      "video_bandwidth: 0.09\n",
      "reference_level: -10\n",
      "sweep_points: 100001\n",
      "auto_sweep_time: -1\n",
      "sweep_time: 10\n",
      "single_sweep_mode: -1\n",
      "number_of_sweeps: 6\n",
      "dwell_time: 20\n",
      "coupling: 1\n",
      "pre_amp_state: 0\n",
      "attenuation: 0\n",
      "auto_attenuation: -1\n",
      "antenna_offset: 0\n",
      "detector_type: 0\n",
      "trace_type: 0\n",
      "latitude: 21.984987\n",
      "longitude: -159.752488\n",
      "azimuth: 90\n",
      "elevation: 22\n",
      "measurement_date_time: Tuesday, April 23, 2019\n",
      "significant_digits: 1\n"
     ]
    }
   ],
   "source": [
    "for att in attributes:\n",
    "    print(\"{}: {}\".format(att, getattr(trace, att)))\n"
   ]
  },
  {
   "cell_type": "code",
   "execution_count": 24,
   "metadata": {},
   "outputs": [],
   "source": [
    "data_y = np.array(trace.data) / (10**int(trace.significant_digits))\n"
   ]
  },
  {
   "cell_type": "code",
   "execution_count": 25,
   "metadata": {},
   "outputs": [
    {
     "name": "stdout",
     "output_type": "stream",
     "text": [
      "[-93.9 -92.2 -91.4]\n"
     ]
    }
   ],
   "source": [
    "print(data_y[0:3])\n"
   ]
  },
  {
   "cell_type": "code",
   "execution_count": 26,
   "metadata": {},
   "outputs": [],
   "source": [
    "data_x = np.linspace(\n",
    "    trace.start_frequency,\n",
    "    trace.stop_frequency,\n",
    "    len(data_y)\n",
    ")\n"
   ]
  },
  {
   "cell_type": "code",
   "execution_count": 27,
   "metadata": {},
   "outputs": [
    {
     "name": "stdout",
     "output_type": "stream",
     "text": [
      "2000.0\n",
      "9000.0\n",
      "(100001,)\n"
     ]
    }
   ],
   "source": [
    "print(data_x[0])\n",
    "print(data_x[-1])\n",
    "print(data_x.shape)"
   ]
  },
  {
   "cell_type": "code",
   "execution_count": 28,
   "metadata": {},
   "outputs": [
    {
     "name": "stdout",
     "output_type": "stream",
     "text": [
      "   ! MHz  Gain(dB)     AF\n",
      "0   2000      18.7  17.55\n",
      "1   3000      21.6  18.17\n",
      "2   4000      24.2  18.07\n",
      "3   5000      25.7  18.51\n",
      "4   6000      26.7  19.09\n"
     ]
    }
   ],
   "source": [
    "antenna = pd.read_csv(\"Qpar218.ant\", header=1)\n",
    "print(antenna.head())\n"
   ]
  },
  {
   "cell_type": "code",
   "execution_count": 29,
   "metadata": {},
   "outputs": [],
   "source": [
    "ant_x = np.array(antenna[\"! MHz\"])\n",
    "ant_y_db = np.array(antenna[\"Gain(dB)\"])\n",
    "ant_y_af = np.array(antenna[\"AF\"])\n"
   ]
  },
  {
   "cell_type": "code",
   "execution_count": 30,
   "metadata": {},
   "outputs": [
    {
     "name": "stdout",
     "output_type": "stream",
     "text": [
      "(17,)\n"
     ]
    }
   ],
   "source": [
    "print(ant_x.shape)\n",
    "\n"
   ]
  },
  {
   "cell_type": "code",
   "execution_count": 31,
   "metadata": {},
   "outputs": [],
   "source": [
    "interpolator_db = interpolate.interp1d(ant_x, ant_y_db)\n",
    "interpolator_af = interpolate.interp1d(ant_x, ant_y_af)\n"
   ]
  },
  {
   "cell_type": "code",
   "execution_count": 32,
   "metadata": {},
   "outputs": [],
   "source": [
    "interpd_ant_data_db = interpolator_db(data_x)\n",
    "interpd_ant_data_af = interpolator_af(data_x)\n"
   ]
  },
  {
   "cell_type": "code",
   "execution_count": 33,
   "metadata": {},
   "outputs": [
    {
     "name": "stdout",
     "output_type": "stream",
     "text": [
      "(100001,)\n",
      "(100001,)\n"
     ]
    }
   ],
   "source": [
    "print(interpd_ant_data_db.shape)\n",
    "print(interpd_ant_data_af.shape)\n",
    "\n"
   ]
  },
  {
   "cell_type": "code",
   "execution_count": 34,
   "metadata": {},
   "outputs": [],
   "source": [
    "def scale_data(data, antenna_factors, losses):\n",
    "    # dBm to dB/m\n",
    "    scaled_data = np.fromiter(\n",
    "        (x + y for x, y in zip(data, antenna_factors)),\n",
    "        \"float64\"\n",
    "    )\n",
    "\n",
    "    # dBm/m to dBuV/m\n",
    "    scaled_data = np.add(scaled_data, 107)\n",
    "\n",
    "    # Add in losses\n",
    "    scaled_data = np.fromiter(\n",
    "        (x + y for x, y in zip(scaled_data, losses)),\n",
    "        \"float64\"\n",
    "    )\n",
    "\n",
    "    return scaled_data\n",
    "\n"
   ]
  },
  {
   "cell_type": "code",
   "execution_count": 35,
   "metadata": {},
   "outputs": [],
   "source": [
    "scaled_data = scale_data(data_y, interpd_ant_data_af, np.zeros(len(data_y)))\n"
   ]
  },
  {
   "cell_type": "code",
   "execution_count": 36,
   "metadata": {},
   "outputs": [
    {
     "name": "stdout",
     "output_type": "stream",
     "text": [
      "[30.65      32.3500434 33.1500868 37.3501302]\n"
     ]
    }
   ],
   "source": [
    "print(scaled_data[0:4])\n",
    "\n"
   ]
  },
  {
   "cell_type": "code",
   "execution_count": 37,
   "metadata": {},
   "outputs": [],
   "source": [
    "def plot_trace(\n",
    "    trace_x,\n",
    "    trace_y,\n",
    "    title=\"Trace Plot\",\n",
    "    xlabel=\"Frequency (MHz)\",\n",
    "    ylabel=\"Amplitude (dBuV/m)\"\n",
    "):\n",
    "    plt.plot(trace_x, trace_y)\n",
    "    plt.title(title)\n",
    "    plt.xlabel(xlabel)\n",
    "    plt.ylabel(ylabel)\n",
    "    plt.show()\n",
    "\n"
   ]
  },
  {
   "cell_type": "code",
   "execution_count": 38,
   "metadata": {},
   "outputs": [
    {
     "data": {
      "image/png": "[encoded data removed]",
      "text/plain": [
       "<Figure size 432x288 with 1 Axes>"
      ]
     },
     "metadata": {
      "needs_background": "light"
     },
     "output_type": "display_data"
    },
    {
     "data": {
      "image/png": "[encoded data removed]",
      "text/plain": [
       "<Figure size 432x288 with 1 Axes>"
      ]
     },
     "metadata": {
      "needs_background": "light"
     },
     "output_type": "display_data"
    }
   ],
   "source": [
    "plot_trace(data_x, data_y, title=\"uncorrected\", ylabel=\"Amplitude (dBm)\")\n",
    "plot_trace(data_x, scaled_data, title=\"corrected\")\n"
   ]
  },
  {
   "cell_type": "code",
   "execution_count": null,
   "metadata": {},
   "outputs": [],
   "source": []
  },
  {
   "cell_type": "code",
   "execution_count": null,
   "metadata": {},
   "outputs": [],
   "source": []
  },
  {
   "cell_type": "code",
   "execution_count": null,
   "metadata": {},
   "outputs": [],
   "source": []
  }
 ],
 "metadata": {
  "file_extension": ".py",
  "kernelspec": {
   "display_name": "Python 3",
   "language": "python",
   "name": "python3"
  },
  "language_info": {
   "codemirror_mode": {
    "name": "ipython",
    "version": 3
   },
   "file_extension": ".py",
   "mimetype": "text/x-python",
   "name": "python",
   "nbconvert_exporter": "python",
   "pygments_lexer": "ipython3",
   "version": "3.6.8"
  },
  "mimetype": "text/x-python",
  "name": "python",
  "npconvert_exporter": "python",
  "pygments_lexer": "ipython3",
  "version": 3
 },
 "nbformat": 4,
 "nbformat_minor": 2
}
